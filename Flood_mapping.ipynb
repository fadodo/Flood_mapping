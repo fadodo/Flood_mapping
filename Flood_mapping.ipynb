{
  "cells": [
    {
      "cell_type": "markdown",
      "metadata": {
        "id": "Qx3agPasmlH0"
      },
      "source": [
        "# Flood mapping from SAR imagery and validated with Sentinel2"
      ]
    },
    {
      "cell_type": "markdown",
      "metadata": {
        "id": "7RfgdqQ5nAPP"
      },
      "source": [
        "## Loading of the necessaries package"
      ]
    },
    {
      "cell_type": "code",
      "execution_count": 1,
      "metadata": {
        "id": "M-jp-mWFm2jQ"
      },
      "outputs": [],
      "source": [
        "## Loading of the necessaries package\n",
        "import ee\n",
        "import geemap\n",
        "import geemap.chart as chart\n",
        "import ee.mapclient\n",
        "import plotly.express as px\n",
        "\n",
        "\n",
        "import matplotlib.pyplot as plt\n",
        "import numpy as np\n",
        "from skimage.filters import threshold_multiotsu, threshold_otsu\n"
      ]
    },
    {
      "cell_type": "markdown",
      "metadata": {
        "id": "o7sLovwNnHhK"
      },
      "source": [
        "---------------------\n",
        "## Authentification on Google Earth Engine\n",
        "--------------------------"
      ]
    },
    {
      "cell_type": "code",
      "execution_count": null,
      "metadata": {
        "colab": {
          "base_uri": "https://localhost:8080/",
          "height": 17
        },
        "id": "HQrpUamjm9H0",
        "outputId": "336e0745-b8c9-43ee-a3c3-bdc8fafb32c9"
      },
      "outputs": [
        {
          "data": {
            "text/html": [
              "\n",
              "            <style>\n",
              "                .geemap-dark {\n",
              "                    --jp-widgets-color: white;\n",
              "                    --jp-widgets-label-color: white;\n",
              "                    --jp-ui-font-color1: white;\n",
              "                    --jp-layout-color2: #454545;\n",
              "                    background-color: #383838;\n",
              "                }\n",
              "\n",
              "                .geemap-dark .jupyter-button {\n",
              "                    --jp-layout-color3: #383838;\n",
              "                }\n",
              "\n",
              "                .geemap-colab {\n",
              "                    background-color: var(--colab-primary-surface-color, white);\n",
              "                }\n",
              "\n",
              "                .geemap-colab .jupyter-button {\n",
              "                    --jp-layout-color3: var(--colab-primary-surface-color, white);\n",
              "                }\n",
              "            </style>\n",
              "            "
            ],
            "text/plain": [
              "<IPython.core.display.HTML object>"
            ]
          },
          "metadata": {},
          "output_type": "display_data"
        }
      ],
      "source": [
        "# Authenticate\n",
        "ee.Authenticate()\n",
        "# initialize\n",
        "project_name= ???   # Add your project gee project name\n",
        "ee.Initialize(project=project_name)"
      ]
    },
    {
      "cell_type": "markdown",
      "metadata": {
        "id": "3H7vKdQJnhFF"
      },
      "source": [
        "--------------------------------------\n",
        "## Definition of the area of interet for the studie\n",
        "--------------------------------------\n",
        "\n",
        "\n",
        "This can be done automatically by drawing the AOI on the map or defined manually the coordinates using geojson.io platform"
      ]
    },
    {
      "cell_type": "code",
      "execution_count": 4,
      "metadata": {
        "id": "mOnRbxPgoFf7"
      },
      "outputs": [
        {
          "data": {
            "text/html": [
              "\n",
              "            <style>\n",
              "                .geemap-dark {\n",
              "                    --jp-widgets-color: white;\n",
              "                    --jp-widgets-label-color: white;\n",
              "                    --jp-ui-font-color1: white;\n",
              "                    --jp-layout-color2: #454545;\n",
              "                    background-color: #383838;\n",
              "                }\n",
              "\n",
              "                .geemap-dark .jupyter-button {\n",
              "                    --jp-layout-color3: #383838;\n",
              "                }\n",
              "\n",
              "                .geemap-colab {\n",
              "                    background-color: var(--colab-primary-surface-color, white);\n",
              "                }\n",
              "\n",
              "                .geemap-colab .jupyter-button {\n",
              "                    --jp-layout-color3: var(--colab-primary-surface-color, white);\n",
              "                }\n",
              "            </style>\n",
              "            "
            ],
            "text/plain": [
              "<IPython.core.display.HTML object>"
            ]
          },
          "metadata": {},
          "output_type": "display_data"
        },
        {
          "data": {
            "application/vnd.jupyter.widget-view+json": {
              "model_id": "9cd86b9827de46849e2ee05438f336a9",
              "version_major": 2,
              "version_minor": 0
            },
            "text/plain": [
              "Map(center=[5.0, -2.0], controls=(WidgetControl(options=['position', 'transparent_bg'], widget=SearchDataGUI(c…"
            ]
          },
          "execution_count": 4,
          "metadata": {},
          "output_type": "execute_result"
        }
      ],
      "source": [
        "## First, plot the map   \n",
        "# Approximate center of West Africa (e.g., near Ghana/Nigeria)\n",
        "center = [5.0, -2.0]  # Latitude, Longitude   \n",
        "map=geemap.Map(zoom=7, center=center)\n",
        "map.add_basemap(\"HYBRID\") #    \n",
        "map"
      ]
    },
    {
      "cell_type": "code",
      "execution_count": 5,
      "metadata": {
        "colab": {
          "base_uri": "https://localhost:8080/",
          "height": 17
        },
        "id": "v7Q6E_-hn-YN",
        "outputId": "be03ec78-8ce9-4561-ef6d-9f3fa212da2b"
      },
      "outputs": [
        {
          "data": {
            "text/html": [
              "\n",
              "            <style>\n",
              "                .geemap-dark {\n",
              "                    --jp-widgets-color: white;\n",
              "                    --jp-widgets-label-color: white;\n",
              "                    --jp-ui-font-color1: white;\n",
              "                    --jp-layout-color2: #454545;\n",
              "                    background-color: #383838;\n",
              "                }\n",
              "\n",
              "                .geemap-dark .jupyter-button {\n",
              "                    --jp-layout-color3: #383838;\n",
              "                }\n",
              "\n",
              "                .geemap-colab {\n",
              "                    background-color: var(--colab-primary-surface-color, white);\n",
              "                }\n",
              "\n",
              "                .geemap-colab .jupyter-button {\n",
              "                    --jp-layout-color3: var(--colab-primary-surface-color, white);\n",
              "                }\n",
              "            </style>\n",
              "            "
            ],
            "text/plain": [
              "<IPython.core.display.HTML object>"
            ]
          },
          "metadata": {},
          "output_type": "display_data"
        },
        {
          "data": {
            "text/plain": [
              "{'type': 'Polygon',\n",
              " 'coordinates': [[[0.889893, 6.110515],\n",
              "   [1.853943, 6.110515],\n",
              "   [1.853943, 6.342597],\n",
              "   [0.889893, 6.342597],\n",
              "   [0.889893, 6.110515]]]}"
            ]
          },
          "execution_count": 5,
          "metadata": {},
          "output_type": "execute_result"
        }
      ],
      "source": [
        "# Draw your area of interest (AOI) on the map and then execute this cell to take it into account\n",
        "# You can also add the AOI geometry manually from geojson.io website\n",
        "# By default the AOI is the Lomé the capital city of Togo\n",
        "\n",
        "if map.user_roi is not None:\n",
        "    AOI=map.user_roi\n",
        "else: # use the default AOI on\n",
        "    AOI=ee.Geometry.Polygon(\n",
        "        [[[0.889893, 6.110515],\n",
        "          [0.889893, 6.342597],\n",
        "          [1.853943, 6.342597],\n",
        "          [1.853943, 6.110515],\n",
        "          [0.889893, 6.110515]]]\n",
        "         )\n",
        "# Check the validy of the region of interest  \n",
        "AOI.getInfo()"
      ]
    },
    {
      "cell_type": "markdown",
      "metadata": {},
      "source": [
        "### Declaration of constant parameters"
      ]
    },
    {
      "cell_type": "code",
      "execution_count": 6,
      "metadata": {},
      "outputs": [
        {
          "data": {
            "text/html": [
              "\n",
              "            <style>\n",
              "                .geemap-dark {\n",
              "                    --jp-widgets-color: white;\n",
              "                    --jp-widgets-label-color: white;\n",
              "                    --jp-ui-font-color1: white;\n",
              "                    --jp-layout-color2: #454545;\n",
              "                    background-color: #383838;\n",
              "                }\n",
              "\n",
              "                .geemap-dark .jupyter-button {\n",
              "                    --jp-layout-color3: #383838;\n",
              "                }\n",
              "\n",
              "                .geemap-colab {\n",
              "                    background-color: var(--colab-primary-surface-color, white);\n",
              "                }\n",
              "\n",
              "                .geemap-colab .jupyter-button {\n",
              "                    --jp-layout-color3: var(--colab-primary-surface-color, white);\n",
              "                }\n",
              "            </style>\n",
              "            "
            ],
            "text/plain": [
              "<IPython.core.display.HTML object>"
            ]
          },
          "metadata": {},
          "output_type": "display_data"
        }
      ],
      "source": [
        "event_date = ee.Date('2025-06-02')   # Date de l'événement déclencheur\n",
        "search= 12                           # interval jour entre debut et fin\n",
        "start_date = event_date.advance(-search, 'day')\n",
        "end_date = event_date.advance(search, 'day')"
      ]
    },
    {
      "cell_type": "markdown",
      "metadata": {},
      "source": [
        "-----------------------------\n",
        "## SENTINEL-1 : Identifying pre- and post- event imagerie  and Reduction of SAR speckle effect by medium focal smoothing\n",
        "-----------------------------\n"
      ]
    },
    {
      "cell_type": "markdown",
      "metadata": {
        "id": "yr16FdEvqp9F"
      },
      "source": [
        "### Collect the copernicus SAR IW imagery over the period and location"
      ]
    },
    {
      "cell_type": "code",
      "execution_count": 7,
      "metadata": {},
      "outputs": [
        {
          "data": {
            "text/html": [
              "\n",
              "            <style>\n",
              "                .geemap-dark {\n",
              "                    --jp-widgets-color: white;\n",
              "                    --jp-widgets-label-color: white;\n",
              "                    --jp-ui-font-color1: white;\n",
              "                    --jp-layout-color2: #454545;\n",
              "                    background-color: #383838;\n",
              "                }\n",
              "\n",
              "                .geemap-dark .jupyter-button {\n",
              "                    --jp-layout-color3: #383838;\n",
              "                }\n",
              "\n",
              "                .geemap-colab {\n",
              "                    background-color: var(--colab-primary-surface-color, white);\n",
              "                }\n",
              "\n",
              "                .geemap-colab .jupyter-button {\n",
              "                    --jp-layout-color3: var(--colab-primary-surface-color, white);\n",
              "                }\n",
              "            </style>\n",
              "            "
            ],
            "text/plain": [
              "<IPython.core.display.HTML object>"
            ]
          },
          "metadata": {},
          "output_type": "display_data"
        }
      ],
      "source": [
        "# Load and preprocess Sentinel-1 SAR image \n",
        "def get_s1_images(roi, start_date, end_date):\n",
        "    \"\"\"\n",
        "    roi : region of interest\n",
        "    start_date\n",
        "    end_date\n",
        "    \"\"\"\n",
        "    s1_collection = (ee.ImageCollection(\"COPERNICUS/S1_GRD\")\n",
        "                     .filter(ee.Filter.eq(\"instrumentMode\", \"IW\"))\n",
        "                     .filter(ee.Filter.eq(\"orbitProperties_pass\", \"ASCENDING\"))\n",
        "                     .filter(ee.Filter.eq(\"resolution_meters\", 10))\n",
        "                     .filterBounds(roi)\n",
        "                     .filterDate(start_date, end_date))\n",
        "    \n",
        "    if len(s1_collection.getInfo()['features']) < 2:\n",
        "        raise ValueError(\"No images found for the event date range and Location.\" \\\n",
        "                    \" Increase the search interval: {search}\") \n",
        "    else:\n",
        "        print(f\"\tTotal images available for this regions and period is : {len(s1_collection.getInfo()['features'])} images\")\n",
        "        \n",
        "    return s1_collection"
      ]
    },
    {
      "cell_type": "markdown",
      "metadata": {},
      "source": [
        "### Extract first image for pre and post flood event"
      ]
    },
    {
      "cell_type": "code",
      "execution_count": 8,
      "metadata": {},
      "outputs": [
        {
          "data": {
            "text/html": [
              "\n",
              "            <style>\n",
              "                .geemap-dark {\n",
              "                    --jp-widgets-color: white;\n",
              "                    --jp-widgets-label-color: white;\n",
              "                    --jp-ui-font-color1: white;\n",
              "                    --jp-layout-color2: #454545;\n",
              "                    background-color: #383838;\n",
              "                }\n",
              "\n",
              "                .geemap-dark .jupyter-button {\n",
              "                    --jp-layout-color3: #383838;\n",
              "                }\n",
              "\n",
              "                .geemap-colab {\n",
              "                    background-color: var(--colab-primary-surface-color, white);\n",
              "                }\n",
              "\n",
              "                .geemap-colab .jupyter-button {\n",
              "                    --jp-layout-color3: var(--colab-primary-surface-color, white);\n",
              "                }\n",
              "            </style>\n",
              "            "
            ],
            "text/plain": [
              "<IPython.core.display.HTML object>"
            ]
          },
          "metadata": {},
          "output_type": "display_data"
        }
      ],
      "source": [
        "def pre_and_post_event_images(s1_images, roi, start_date, end_date, event_date, smoothing_radius=50):\n",
        "    #get the proper post event image\n",
        "    pre_event_image=s1_images.filterDate(start_date,event_date).sort('system:time_start', False).first()\n",
        "    post_event_image=s1_images.filterDate(event_date, end_date).first()\n",
        "\n",
        "    if not pre_event_image or not post_event_image:\n",
        "        raise ValueError(\"No images found for the event date range and Location.\" \\\n",
        "                    \" Increase the search interval: {search}\") \n",
        "    else:\n",
        "        print(f\"    Total images selected for pre event date: {len(s1_images.filterDate(start_date, event_date).getInfo()['features'])} images\")\n",
        "        print(f\"    Total images selected for post the event date: {len(s1_images.filterDate(event_date,end_date).getInfo()['features'])} images\")\n",
        "\n",
        "    # Speckle correction\n",
        "    def speckle_smoothing(image, smoothing_radius = 30):\n",
        "        kernel = ee.Kernel.square(smoothing_radius, units='meters')\n",
        "        return image.focal_mean(kernel=kernel, iterations=1)\n",
        "    \n",
        "    pre_event_smooth_image=speckle_smoothing(pre_event_image).clip(roi)\n",
        "    post_event_smooth_image=speckle_smoothing(post_event_image).clip(roi)\n",
        "\n",
        "    return pre_event_smooth_image, post_event_smooth_image"
      ]
    },
    {
      "cell_type": "markdown",
      "metadata": {},
      "source": [
        "### Main execution"
      ]
    },
    {
      "cell_type": "code",
      "execution_count": 9,
      "metadata": {},
      "outputs": [
        {
          "data": {
            "text/html": [
              "\n",
              "            <style>\n",
              "                .geemap-dark {\n",
              "                    --jp-widgets-color: white;\n",
              "                    --jp-widgets-label-color: white;\n",
              "                    --jp-ui-font-color1: white;\n",
              "                    --jp-layout-color2: #454545;\n",
              "                    background-color: #383838;\n",
              "                }\n",
              "\n",
              "                .geemap-dark .jupyter-button {\n",
              "                    --jp-layout-color3: #383838;\n",
              "                }\n",
              "\n",
              "                .geemap-colab {\n",
              "                    background-color: var(--colab-primary-surface-color, white);\n",
              "                }\n",
              "\n",
              "                .geemap-colab .jupyter-button {\n",
              "                    --jp-layout-color3: var(--colab-primary-surface-color, white);\n",
              "                }\n",
              "            </style>\n",
              "            "
            ],
            "text/plain": [
              "<IPython.core.display.HTML object>"
            ]
          },
          "metadata": {},
          "output_type": "display_data"
        },
        {
          "name": "stdout",
          "output_type": "stream",
          "text": [
            "\tTotal images available for this regions and period is : 4 images\n",
            "    Total images selected for pre event date: 2 images\n",
            "    Total images selected for post the event date: 2 images\n"
          ]
        }
      ],
      "source": [
        "# Load SAR image collection over the period\n",
        "S1_collection =get_s1_images(AOI, start_date=start_date, end_date=end_date)\n",
        "\n",
        "# Load images for pre and post event\n",
        "SAR_non_flood_img_smooth, SAR_flood_img_smooth=pre_and_post_event_images(S1_collection, roi=AOI, start_date=start_date, end_date=end_date, event_date=event_date)"
      ]
    },
    {
      "cell_type": "markdown",
      "metadata": {},
      "source": [
        "-------------------------------\n",
        "## SENTINEL-2 : Collecting and Identifying pre- and post- event imageries from copernicus Sentinel 2 imagery\n",
        "-------------------------------\n"
      ]
    },
    {
      "cell_type": "markdown",
      "metadata": {},
      "source": [
        "### Extract median image for post and after event"
      ]
    },
    {
      "cell_type": "code",
      "execution_count": 10,
      "metadata": {},
      "outputs": [
        {
          "data": {
            "text/html": [
              "\n",
              "            <style>\n",
              "                .geemap-dark {\n",
              "                    --jp-widgets-color: white;\n",
              "                    --jp-widgets-label-color: white;\n",
              "                    --jp-ui-font-color1: white;\n",
              "                    --jp-layout-color2: #454545;\n",
              "                    background-color: #383838;\n",
              "                }\n",
              "\n",
              "                .geemap-dark .jupyter-button {\n",
              "                    --jp-layout-color3: #383838;\n",
              "                }\n",
              "\n",
              "                .geemap-colab {\n",
              "                    background-color: var(--colab-primary-surface-color, white);\n",
              "                }\n",
              "\n",
              "                .geemap-colab .jupyter-button {\n",
              "                    --jp-layout-color3: var(--colab-primary-surface-color, white);\n",
              "                }\n",
              "            </style>\n",
              "            "
            ],
            "text/plain": [
              "<IPython.core.display.HTML object>"
            ]
          },
          "metadata": {},
          "output_type": "display_data"
        }
      ],
      "source": [
        "def get_s2_pre_and_post_images(roi, event_date):\n",
        "    # increase the search value to increase images in\n",
        "    start_date=event_date.advance(-20, 'day')\n",
        "    end_date=event_date.advance(20,'day')\n",
        "\n",
        "    s2_collection= (ee.ImageCollection(\"COPERNICUS/S2_SR_HARMONIZED\")\n",
        "          .filter(ee.Filter.lt('CLOUDY_PIXEL_PERCENTAGE', 30))  \n",
        "          .filterBounds(roi)\n",
        "          .filterDate(start_date, end_date))\n",
        "\n",
        "    if len(s2_collection.getInfo()['features']) < 2:\n",
        "        raise ValueError(\"No images found for the event date range and Location.\" \\\n",
        "                    \" Increase the search interval: {search}\") \n",
        "    else:\n",
        "        print(f\"\tTotal images available for this regions and period is : {len(s2_collection.getInfo()['features'])} images\")\n",
        "\n",
        "    #get the proper post event image\n",
        "    s2_post_event=s2_collection.filterDate(start_date,event_date).median().clip(roi)\n",
        "    s2_after_event=s2_collection.filterDate(event_date, end_date).median().clip(roi)\n",
        "        \n",
        "    return s2_post_event, s2_after_event"
      ]
    },
    {
      "cell_type": "markdown",
      "metadata": {},
      "source": [
        "\n",
        "### Compute NDWI from Sentinel-2\n"
      ]
    },
    {
      "cell_type": "code",
      "execution_count": 11,
      "metadata": {},
      "outputs": [
        {
          "data": {
            "text/html": [
              "\n",
              "            <style>\n",
              "                .geemap-dark {\n",
              "                    --jp-widgets-color: white;\n",
              "                    --jp-widgets-label-color: white;\n",
              "                    --jp-ui-font-color1: white;\n",
              "                    --jp-layout-color2: #454545;\n",
              "                    background-color: #383838;\n",
              "                }\n",
              "\n",
              "                .geemap-dark .jupyter-button {\n",
              "                    --jp-layout-color3: #383838;\n",
              "                }\n",
              "\n",
              "                .geemap-colab {\n",
              "                    background-color: var(--colab-primary-surface-color, white);\n",
              "                }\n",
              "\n",
              "                .geemap-colab .jupyter-button {\n",
              "                    --jp-layout-color3: var(--colab-primary-surface-color, white);\n",
              "                }\n",
              "            </style>\n",
              "            "
            ],
            "text/plain": [
              "<IPython.core.display.HTML object>"
            ]
          },
          "metadata": {},
          "output_type": "display_data"
        }
      ],
      "source": [
        "def get_ndwi(image):\n",
        "    green = image.select('B3')\n",
        "    nir = image.select('B8')\n",
        "    ndwi = green.subtract(nir).divide(green.add(nir)).rename(\"NDWI\")\n",
        "    return ndwi"
      ]
    },
    {
      "cell_type": "markdown",
      "metadata": {},
      "source": [
        "### Main execution"
      ]
    },
    {
      "cell_type": "code",
      "execution_count": null,
      "metadata": {},
      "outputs": [],
      "source": [
        "# Load S2 images for pre and post event\n",
        "S2_pre_event, S2_post_event=get_s2_pre_and_post_images(AOI, event_date=event_date)\n",
        "\n",
        "# NDWI mask from Sentinel-2\n",
        "pre_event_ndwi_mask = get_ndwi(S2_pre_event).gt(0).rename(\"ndwi_water\")\n",
        "post_event_ndwi_mask = get_ndwi(S2_post_event).gt(0).rename(\"ndwi_water\")"
      ]
    },
    {
      "cell_type": "markdown",
      "metadata": {},
      "source": [
        "-------------------------------\n",
        "## Visualization\n",
        "-------------------------------"
      ]
    },
    {
      "cell_type": "code",
      "execution_count": null,
      "metadata": {
        "id": "sF51KEKRwZSJ"
      },
      "outputs": [],
      "source": [
        "map.addLayer(SAR_non_flood_img_smooth, {'bands':['VH'],'min':-25,'max':0}, 'SAR_non_flood_img_smooth')\n",
        "map.addLayer(SAR_flood_img_smooth, {'bands':['VH'],'min':-25,'max':0}, 'SAR_flood_img_smooth')\n",
        "map.addLayer(pre_event_ndwi_mask.updateMask(pre_event_ndwi_mask), {\"palette\": [\"green\"]}, \"Pre_flood(NDWI)\")\n",
        "map.addLayer(post_event_ndwi_mask.updateMask(post_event_ndwi_mask), {\"palette\": [\"green\"]}, \"Post_flood (NDWI)\")\n",
        "map.centerObject(SAR_flood_img_smooth)\n",
        "map"
      ]
    },
    {
      "cell_type": "markdown",
      "metadata": {
        "id": "KfZqJHlZy1OQ"
      },
      "source": [
        "--------------------------------------------\n",
        "## Identify a threshold to classify land and water for each image\n",
        "--------------------------------------------------"
      ]
    },
    {
      "cell_type": "markdown",
      "metadata": {},
      "source": [
        "### Definition of the region of interest that encompense water and raw soil.\n",
        "Here, draw a polygon, a small area of interest (aoi_hist), in the map viewer to generate an image histogram.\n",
        "From the histogram, visually identify a threshold value to classify land and water zones.\n"
      ]
    },
    {
      "cell_type": "code",
      "execution_count": null,
      "metadata": {
        "colab": {
          "base_uri": "https://localhost:8080/",
          "height": 17
        },
        "id": "Aa0HR1jfzwrT",
        "outputId": "df88bf6f-d576-40e6-c31e-1d3bd39ad3b2"
      },
      "outputs": [],
      "source": [
        "if map.user_roi is not None:\n",
        "    AOI_hist=map.user_roi\n",
        "else:\n",
        "    AOI_hist=ee.Geometry.Polygon(\n",
        "        [[[1.406947563254846,6.279016328141211],\n",
        "          [1.406947563254846,6.273029988557553],\n",
        "          [1.4196204943754935,6.273029988557553],\n",
        "          [1.4196204943754935,6.279016328141211],\n",
        "          [1.406947563254846,6.279016328141211]\n",
        "        ]])\n",
        "    \n",
        "AOI_hist.getInfo()"
      ]
    },
    {
      "cell_type": "markdown",
      "metadata": {},
      "source": [
        "### Computing the otsu treshold for histogram or image"
      ]
    },
    {
      "cell_type": "code",
      "execution_count": null,
      "metadata": {},
      "outputs": [],
      "source": [
        "def compute_otsu_threshold(image, band_name, region, scale=30, bins=256, plot=False):\n",
        "    histogram = image.select(band_name).reduceRegion(\n",
        "        reducer=ee.Reducer.histogram(maxBuckets=bins),\n",
        "        geometry=region,\n",
        "        scale=scale,\n",
        "        bestEffort=True\n",
        "    ).getInfo()[band_name]\n",
        "\n",
        "    hist = np.array(histogram[\"histogram\"])\n",
        "    values = np.array(histogram[\"bucketMeans\"])\n",
        "\n",
        "    # otsu threshold calculation\n",
        "    probs = hist / np.sum(hist)\n",
        "    omega = np.cumsum(probs)\n",
        "    mu = np.cumsum(probs * values)\n",
        "    mu_t = mu[-1]\n",
        "\n",
        "    sigma_b_squared = (mu_t * omega - mu) ** 2 / (omega * (1 - omega) + 1e-10)\n",
        "    max_index = np.argmax(sigma_b_squared)\n",
        "    threshold = values[max_index]\n",
        "\n",
        "    if plot:\n",
        "        plt.figure(figsize=(6, 4))\n",
        "        plt.plot(values, hist, label='Histogram')\n",
        "        plt.axvline(threshold, color='red', linestyle='--', label=f'Otsu Threshold: {threshold:.2f}')\n",
        "        plt.title(f\"Otsu Threshold on {band_name}\")\n",
        "        plt.xlabel('Backscatter (dB)')\n",
        "        plt.ylabel('Frequency')\n",
        "        plt.legend()\n",
        "        plt.grid(True)\n",
        "        plt.show()\n",
        "\n",
        "    return threshold"
      ]
    },
    {
      "cell_type": "markdown",
      "metadata": {},
      "source": [
        "### Pre and post threshols estimation"
      ]
    },
    {
      "cell_type": "code",
      "execution_count": 16,
      "metadata": {},
      "outputs": [
        {
          "data": {
            "text/html": [
              "\n",
              "            <style>\n",
              "                .geemap-dark {\n",
              "                    --jp-widgets-color: white;\n",
              "                    --jp-widgets-label-color: white;\n",
              "                    --jp-ui-font-color1: white;\n",
              "                    --jp-layout-color2: #454545;\n",
              "                    background-color: #383838;\n",
              "                }\n",
              "\n",
              "                .geemap-dark .jupyter-button {\n",
              "                    --jp-layout-color3: #383838;\n",
              "                }\n",
              "\n",
              "                .geemap-colab {\n",
              "                    background-color: var(--colab-primary-surface-color, white);\n",
              "                }\n",
              "\n",
              "                .geemap-colab .jupyter-button {\n",
              "                    --jp-layout-color3: var(--colab-primary-surface-color, white);\n",
              "                }\n",
              "            </style>\n",
              "            "
            ],
            "text/plain": [
              "<IPython.core.display.HTML object>"
            ]
          },
          "metadata": {},
          "output_type": "display_data"
        },
        {
          "data": {
            "image/png": "[encoded data removed]",
            "text/plain": [
              "<Figure size 600x400 with 1 Axes>"
            ]
          },
          "metadata": {},
          "output_type": "display_data"
        }
      ],
      "source": [
        "pre_threshold_vh= compute_otsu_threshold(SAR_non_flood_img_smooth, 'VH', AOI_hist, plot=True)"
      ]
    },
    {
      "cell_type": "code",
      "execution_count": 17,
      "metadata": {},
      "outputs": [
        {
          "data": {
            "text/html": [
              "\n",
              "            <style>\n",
              "                .geemap-dark {\n",
              "                    --jp-widgets-color: white;\n",
              "                    --jp-widgets-label-color: white;\n",
              "                    --jp-ui-font-color1: white;\n",
              "                    --jp-layout-color2: #454545;\n",
              "                    background-color: #383838;\n",
              "                }\n",
              "\n",
              "                .geemap-dark .jupyter-button {\n",
              "                    --jp-layout-color3: #383838;\n",
              "                }\n",
              "\n",
              "                .geemap-colab {\n",
              "                    background-color: var(--colab-primary-surface-color, white);\n",
              "                }\n",
              "\n",
              "                .geemap-colab .jupyter-button {\n",
              "                    --jp-layout-color3: var(--colab-primary-surface-color, white);\n",
              "                }\n",
              "            </style>\n",
              "            "
            ],
            "text/plain": [
              "<IPython.core.display.HTML object>"
            ]
          },
          "metadata": {},
          "output_type": "display_data"
        },
        {
          "data": {
            "image/png": "[encoded data removed]",
            "text/plain": [
              "<Figure size 600x400 with 1 Axes>"
            ]
          },
          "metadata": {},
          "output_type": "display_data"
        }
      ],
      "source": [
        "post_threshold_vh= compute_otsu_threshold(SAR_flood_img_smooth, 'VH', AOI_hist, plot=True)"
      ]
    },
    {
      "cell_type": "markdown",
      "metadata": {},
      "source": [
        "## Otsu threshold method for threshold identification (Second approach)\n"
      ]
    },
    {
      "cell_type": "code",
      "execution_count": null,
      "metadata": {
        "colab": {
          "base_uri": "https://localhost:8080/",
          "height": 17
        },
        "id": "smB5yB6gb7-d",
        "outputId": "b7950099-0856-47f2-e0b0-4c1b0ee37225"
      },
      "outputs": [],
      "source": [
        "def compute_otsu_treshold_and_plot_histogram(image: ee.Image, region: ee.Geometry, scale: int = 10, histogram_bins=256):\n",
        "    \"\"\"\n",
        "    Computes Otsu's threshold on a Google Earth Engine SAR image to distinguish\n",
        "    water from non-water regions based on backscatter intensity.\n",
        "    Plots overlaid histograms for VV and VH bands of a SAR image using Plotly Express,\n",
        "    and overlays the Otsu threshold for the VH band.\n",
        "\n",
        "    sar_image : ee.Image\n",
        "        A SAR image (typically in dB) with one band representing backscatter.\n",
        "    region : ee.Geometry\n",
        "        The region of interest where the histogram and thresholding are computed.\n",
        "    scale : int, optional\n",
        "        The resolution (in meters) to sample the image. Default is 30.\n",
        "    histogram_bins : int, optional\n",
        "        Number of bins to use for histogram computation. Default is 256.\n",
        "\n",
        "    Returns:\n",
        "    --------\n",
        "    float\n",
        "        The computed Otsu threshold value (in the same unit as input image).\n",
        "    \"\"\"\n",
        "    import plotly.express as px\n",
        "    import plotly.graph_objects as go\n",
        "    import pandas as pd\n",
        "    from skimage.filters import threshold_otsu, threshold_multiotsu\n",
        "    import numpy as np\n",
        "\n",
        "    # Compute histogram of the image over the region\n",
        "    histogram = image.reduceRegion(\n",
        "        reducer=ee.Reducer.histogram(maxBuckets=histogram_bins),\n",
        "        geometry=region,\n",
        "        scale=scale,\n",
        "        bestEffort=True\n",
        "    ).getInfo()\n",
        "\n",
        "    # Extract histograms\n",
        "    vv_hist = histogram['VV']\n",
        "    vh_hist = histogram['VH']\n",
        "\n",
        "    # Convert to pandas DataFrame\n",
        "    df_vv = pd.DataFrame({\n",
        "        'Backscatter': vv_hist['bucketMeans'],\n",
        "        'Frequency': vv_hist['histogram'],\n",
        "        'Band': 'VV'\n",
        "    })\n",
        "\n",
        "    df_vh = pd.DataFrame({\n",
        "        'Backscatter': vh_hist['bucketMeans'],\n",
        "        'Frequency': vh_hist['histogram'],\n",
        "        'Band': 'VH'\n",
        "    })\n",
        "\n",
        "    # Combine both bands\n",
        "    df_combined = pd.concat([df_vv, df_vh])\n",
        "\n",
        "    # Calculate Otsu threshold for VH band only (using bucket means)\n",
        "    df_vals = np.array(df_combined['Backscatter'])\n",
        "    df_weights = np.array(df_combined['Frequency'])\n",
        "    if df_vals.size > 0:\n",
        "        expanded_df = np.repeat(df_vals, df_weights.astype(int))\n",
        "        thresh = threshold_otsu(expanded_df)\n",
        "        print(\"Otsu Threshold :\", thresh)\n",
        "    else:\n",
        "        thresh = None\n",
        "        print(\" data is empty; no threshold computed.\")\n",
        "\n",
        "    # Plot using Plotly Graph Objects for custom colors and threshold line\n",
        "    fig = go.Figure()\n",
        "\n",
        "    fig.add_trace(go.Bar(\n",
        "        x=df_vv['Backscatter'], y=df_vv['Frequency'],\n",
        "        name='VV', marker_color='black', opacity=0.8\n",
        "    ))\n",
        "\n",
        "    fig.add_trace(go.Bar(\n",
        "        x=df_vh['Backscatter'], y=df_vh['Frequency'],\n",
        "        name='VH', marker_color='blue', opacity=0.8\n",
        "    ))\n",
        "\n",
        "    # Add threshold line for VH\n",
        "    if thresh is not None:\n",
        "        fig.add_trace(go.Scatter(\n",
        "            x=[thresh, thresh],\n",
        "            y=[0, max(df_combined['Frequency'])],\n",
        "            mode='lines',\n",
        "            name=f'Otsu VH Threshold ({thresh:.2f})',\n",
        "            line=dict(color='red', dash='dash', width=2)\n",
        "        ))\n",
        "\n",
        "    fig.update_layout(\n",
        "        title='SAR Histogram - VV and VH Bands (with Otsu Threshold)',\n",
        "        xaxis_title='Backscatter (dB)',\n",
        "        yaxis_title='Pixel Count',\n",
        "        barmode='overlay',\n",
        "        template='plotly_white'\n",
        "    )\n",
        "\n",
        "    fig.show()"
      ]
    },
    {
      "cell_type": "code",
      "execution_count": null,
      "metadata": {
        "id": "nYc45qZxcP5H"
      },
      "outputs": [],
      "source": [
        "## Plot histogram for SAR_non_flood_smooth\n",
        "compute_otsu_treshold_and_plot_histogram(SAR_non_flood_img_smooth, AOI_hist)   \n",
        "## Plot histogram for SAR_non_flood_smooth\n",
        "compute_otsu_treshold_and_plot_histogram(SAR_flood_img_smooth, AOI_hist)   \n"
      ]
    },
    {
      "cell_type": "markdown",
      "metadata": {
        "id": "Mvr1ugFNFTTy"
      },
      "source": [
        "------------------------\n",
        "# Classify the water and land  area from thresholds\n",
        "----------------\n",
        "Based on the tresholds previously defined visually from histograms, we can now classify for classes"
      ]
    },
    {
      "cell_type": "code",
      "execution_count": null,
      "metadata": {
        "colab": {
          "base_uri": "https://localhost:8080/",
          "height": 17
        },
        "id": "iP-NjflxESrE",
        "outputId": "53d0c93f-fbba-4990-c5a3-90869bbe8588"
      },
      "outputs": [],
      "source": [
        "#Classify water for pre event image\n",
        "non_flood_class = SAR_non_flood_img_smooth.select('VH').lt(pre_threshold_vh) # all pixels with value less than -22 will be assigned as 0, otherwise 1\n",
        "\n",
        "#Classify water for post event image\n",
        "flood_class = SAR_flood_img_smooth.select('VH').lt(post_threshold_vh) # all pixels with value less than -18.5 will be assigned as 0, otherwise 1"
      ]
    },
    {
      "cell_type": "markdown",
      "metadata": {
        "id": "H8tGK0ozLm3I"
      },
      "source": [
        "## Calculate the extend of the flood"
      ]
    },
    {
      "cell_type": "code",
      "execution_count": null,
      "metadata": {
        "colab": {
          "base_uri": "https://localhost:8080/",
          "height": 17
        },
        "id": "4mScyl3yLmjU",
        "outputId": "3b5543da-ebd8-4394-dc76-badd4fa82dc7"
      },
      "outputs": [],
      "source": [
        "# Subtraction of non-flooded image from flooded classified image\n",
        "flooded_area_SAR = flood_class.subtract(non_flood_class).selfMask()\n",
        "\n",
        "# Subtraction of non-flooded image from flooded classified image\n",
        "flooded_area_S2 = post_event_ndwi_mask.subtract(pre_event_ndwi_mask).selfMask()"
      ]
    },
    {
      "cell_type": "code",
      "execution_count": null,
      "metadata": {
        "id": "1c3frrLhMNqR"
      },
      "outputs": [],
      "source": [
        "#map.addLayer(non_flood_class,{'palette':['gray','blue']}, 'Pre flood class')\n",
        "#map.addLayer(flood_class,{'palette':['gray','blue']}, 'Post Flood class')\n",
        "#map.addLayer(flooded_area_SAR,{'palette':['blue']},'flooded_area SAR')\n",
        "#map.addLayer(flooded_area_S2,{'palette':['yellow']},'flooded_area S2')\n",
        "#map"
      ]
    },
    {
      "cell_type": "markdown",
      "metadata": {
        "id": "cVntAT_HNEtJ"
      },
      "source": [
        "--------\n",
        "## Calculate pixel connectivity to eliminate isolated pixels, e.g. neighbors with less than 8 pixels\n",
        "--------"
      ]
    },
    {
      "cell_type": "code",
      "execution_count": null,
      "metadata": {
        "colab": {
          "base_uri": "https://localhost:8080/",
          "height": 17
        },
        "id": "JzxQuWO3M-aC",
        "outputId": "ca4d4857-2ff1-4891-d56c-a2d9bb4d43d3"
      },
      "outputs": [],
      "source": [
        "connections = flooded_area_SAR.connectedPixelCount()\n",
        "flooded_area_conn = flooded_area_SAR.updateMask(connections.gte(8))"
      ]
    },
    {
      "cell_type": "markdown",
      "metadata": {
        "id": "J0YJlPfoNn22"
      },
      "source": [
        "------------------------------\n",
        "## Mask out areas with slopes greater than 5% using a digital elevation model\n",
        "------------"
      ]
    },
    {
      "cell_type": "code",
      "execution_count": null,
      "metadata": {
        "colab": {
          "base_uri": "https://localhost:8080/",
          "height": 17
        },
        "id": "0euQYtwiNcFG",
        "outputId": "7ad36802-b2da-4876-eaf8-d495ddc348dc"
      },
      "outputs": [],
      "source": [
        "DEM = ee.Image('WWF/HydroSHEDS/03VFDEM')\n",
        "terrain = ee.Algorithms.Terrain(DEM).clip(AOI)\n",
        "slope = terrain.select('slope')\n",
        "#Mask out areas with a slope greater than 5% using a digital elevation model.\n",
        "flooded_area_conn_topo = flooded_area_conn.updateMask(slope.lt(5))"
      ]
    },
    {
      "cell_type": "markdown",
      "metadata": {},
      "source": [
        "## Visualization"
      ]
    },
    {
      "cell_type": "code",
      "execution_count": null,
      "metadata": {
        "collapsed": true,
        "id": "hthlNypvOVbP"
      },
      "outputs": [],
      "source": [
        "map.addLayer(flooded_area_SAR,{'palette':['blue']},'flooded_area SAR')\n",
        "#map.addLayer(flooded_area_conn,{'palette':['yellow']},'flooded_area_conn')\n",
        "#map.addLayer(terrain.select('hillshade'), {},'hillshade')\n",
        "map.addLayer(flooded_area_conn_topo,{'palette':['red']},'flooded_area_conn_topo')\n",
        "map"
      ]
    },
    {
      "cell_type": "markdown",
      "metadata": {},
      "source": [
        "---------------\n",
        "# Area Calculation for Water Masks\n",
        "------------"
      ]
    },
    {
      "cell_type": "code",
      "execution_count": null,
      "metadata": {},
      "outputs": [],
      "source": [
        "def calculate_water_area(mask, region, scale=30):\n",
        "    \"\"\"\n",
        "    Calculates the area (in square kilometers) of the water mask.\n",
        "\n",
        "    Parameters:\n",
        "    -----------\n",
        "    mask : ee.Image\n",
        "        Binary water mask (1 = water, 0 = non-water).\n",
        "    region : ee.Geometry\n",
        "        The region over which to compute the area.\n",
        "    scale : int\n",
        "        The scale in meters (e.g., 10 or 30 m for Sentinel).\n",
        "\n",
        "    Returns:\n",
        "    --------\n",
        "    float\n",
        "        Area in square kilometers.\n",
        "    \"\"\"\n",
        "    pixel_area = ee.Image.pixelArea().divide(1e6)  # m² to km²\n",
        "    water_area_image = mask.multiply(pixel_area)\n",
        "\n",
        "    stats = water_area_image.reduceRegion(\n",
        "        reducer=ee.Reducer.sum(),\n",
        "        geometry=region,\n",
        "        scale=scale,\n",
        "        maxPixels=1e8\n",
        "    )\n",
        "\n",
        "    return stats.getInfo()[mask.bandNames().getInfo()[0]]"
      ]
    },
    {
      "cell_type": "code",
      "execution_count": null,
      "metadata": {},
      "outputs": [],
      "source": [
        "water_area_effective = calculate_water_area(flooded_area_conn_topo, AOI)\n",
        "print(\"Water Area Estimates (in km²):\")\n",
        "print(f\" Effective flooded Area      : {water_area_effective:.2f} km²\")"
      ]
    },
    {
      "cell_type": "markdown",
      "metadata": {
        "id": "5GAjsAahO0gk"
      },
      "source": [
        "-----\n",
        "## Export the flood mask map to GEE Assets\n",
        "------"
      ]
    },
    {
      "cell_type": "code",
      "execution_count": null,
      "metadata": {
        "colab": {
          "base_uri": "https://localhost:8080/",
          "height": 17
        },
        "id": "gQ3okSiYO1B2",
        "outputId": "58a025b7-f0c2-4bea-beb2-524a10eac312"
      },
      "outputs": [],
      "source": [
        "# Export the result to google earth engine Assets\n",
        "task= ee.batch.Export.image.toAsset(\n",
        "    image= flooded_area_conn_topo,\n",
        "    description= 'flood_map',\n",
        "    region= AOI.getInfo()['coordinates'],\n",
        "    maxPixels= 1e9,\n",
        "    scale= 10,\n",
        "    assetId='projects/'your_projectname'/assets/flood_26May2024_Togo',  #\n",
        ")\n",
        "task.start()"
      ]
    },
    {
      "cell_type": "code",
      "execution_count": null,
      "metadata": {
        "colab": {
          "base_uri": "https://localhost:8080/",
          "height": 214
        },
        "id": "TFsywrFvrU7a",
        "outputId": "2987bea7-7142-464f-aa09-d189c81bcb54"
      },
      "outputs": [],
      "source": [
        "task.status()"
      ]
    }
  ],
  "metadata": {
    "colab": {
      "authorship_tag": "ABX9TyPj3ccgWKLYZYFvreAb0Ahp",
      "include_colab_link": true,
      "provenance": []
    },
    "kernelspec": {
      "display_name": "base",
      "language": "python",
      "name": "python3"
    },
    "language_info": {
      "codemirror_mode": {
        "name": "ipython",
        "version": 3
      },
      "file_extension": ".py",
      "mimetype": "text/x-python",
      "name": "python",
      "nbconvert_exporter": "python",
      "pygments_lexer": "ipython3",
      "version": "3.10.16"
    }
  },
  "nbformat": 4,
  "nbformat_minor": 0
}
