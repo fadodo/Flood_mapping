{
  "cells": [
    {
      "cell_type": "markdown",
      "metadata": {
        "colab_type": "text",
        "id": "view-in-github"
      },
      "source": [
        "<a href=\"https://colab.research.google.com/github/fadodo/Flood_mapping/blob/main/Flood_mapping.ipynb\" target=\"_parent\"><img src=\"https://colab.research.google.com/assets/colab-badge.svg\" alt=\"Open In Colab\"/></a>"
      ]
    },
    {
      "cell_type": "markdown",
      "metadata": {
        "id": "Qx3agPasmlH0"
      },
      "source": [
        "# Flood mapping from SAR imagery"
      ]
    },
    {
      "cell_type": "markdown",
      "metadata": {
        "id": "7RfgdqQ5nAPP"
      },
      "source": [
        "## Loading of the necessaries package"
      ]
    },
    {
      "cell_type": "code",
      "execution_count": 1,
      "metadata": {
        "id": "M-jp-mWFm2jQ"
      },
      "outputs": [],
      "source": [
        "## Loading of the necessaries package\n",
        "import ee\n",
        "import geemap"
      ]
    },
    {
      "cell_type": "code",
      "execution_count": 2,
      "metadata": {
        "colab": {
          "base_uri": "https://localhost:8080/",
          "height": 17
        },
        "id": "NIuonEZ9-Apk",
        "outputId": "76eed3b9-7ee8-44ab-ea8a-a62945eb40ba"
      },
      "outputs": [
        {
          "data": {
            "text/html": [
              "\n",
              "            <style>\n",
              "                .geemap-dark {\n",
              "                    --jp-widgets-color: white;\n",
              "                    --jp-widgets-label-color: white;\n",
              "                    --jp-ui-font-color1: white;\n",
              "                    --jp-layout-color2: #454545;\n",
              "                    background-color: #383838;\n",
              "                }\n",
              "\n",
              "                .geemap-dark .jupyter-button {\n",
              "                    --jp-layout-color3: #383838;\n",
              "                }\n",
              "\n",
              "                .geemap-colab {\n",
              "                    background-color: var(--colab-primary-surface-color, white);\n",
              "                }\n",
              "\n",
              "                .geemap-colab .jupyter-button {\n",
              "                    --jp-layout-color3: var(--colab-primary-surface-color, white);\n",
              "                }\n",
              "            </style>\n",
              "            "
            ],
            "text/plain": [
              "<IPython.core.display.HTML object>"
            ]
          },
          "metadata": {},
          "output_type": "display_data"
        }
      ],
      "source": [
        "import geemap.chart as chart\n",
        "import ee.mapclient\n",
        "import plotly.express as px"
      ]
    },
    {
      "cell_type": "markdown",
      "metadata": {
        "id": "o7sLovwNnHhK"
      },
      "source": [
        "## Authentification on Google Earth Engine"
      ]
    },
    {
      "cell_type": "code",
      "execution_count": 3,
      "metadata": {
        "colab": {
          "base_uri": "https://localhost:8080/",
          "height": 17
        },
        "id": "HQrpUamjm9H0",
        "outputId": "336e0745-b8c9-43ee-a3c3-bdc8fafb32c9"
      },
      "outputs": [
        {
          "data": {
            "text/html": [
              "\n",
              "            <style>\n",
              "                .geemap-dark {\n",
              "                    --jp-widgets-color: white;\n",
              "                    --jp-widgets-label-color: white;\n",
              "                    --jp-ui-font-color1: white;\n",
              "                    --jp-layout-color2: #454545;\n",
              "                    background-color: #383838;\n",
              "                }\n",
              "\n",
              "                .geemap-dark .jupyter-button {\n",
              "                    --jp-layout-color3: #383838;\n",
              "                }\n",
              "\n",
              "                .geemap-colab {\n",
              "                    background-color: var(--colab-primary-surface-color, white);\n",
              "                }\n",
              "\n",
              "                .geemap-colab .jupyter-button {\n",
              "                    --jp-layout-color3: var(--colab-primary-surface-color, white);\n",
              "                }\n",
              "            </style>\n",
              "            "
            ],
            "text/plain": [
              "<IPython.core.display.HTML object>"
            ]
          },
          "metadata": {},
          "output_type": "display_data"
        }
      ],
      "source": [
        "# Authenticate\n",
        "ee.Authenticate()\n",
        "\n",
        "# initialize\n",
        "ee.Initialize(project='ee-fid')"
      ]
    },
    {
      "cell_type": "markdown",
      "metadata": {
        "id": "3H7vKdQJnhFF"
      },
      "source": [
        "## Definition of the area of interet for the studie\n",
        "\n",
        "This can be done automatically by drawing the AOI on the map or defined manually the coordinates using geojson.io"
      ]
    },
    {
      "cell_type": "code",
      "execution_count": null,
      "metadata": {
        "id": "mOnRbxPgoFf7"
      },
      "outputs": [],
      "source": [
        "## First, plot the map\n",
        "map=geemap.Map(zoom=7)\n",
        "map"
      ]
    },
    {
      "cell_type": "code",
      "execution_count": 6,
      "metadata": {
        "colab": {
          "base_uri": "https://localhost:8080/",
          "height": 17
        },
        "id": "v7Q6E_-hn-YN",
        "outputId": "be03ec78-8ce9-4561-ef6d-9f3fa212da2b"
      },
      "outputs": [
        {
          "data": {
            "text/html": [
              "\n",
              "            <style>\n",
              "                .geemap-dark {\n",
              "                    --jp-widgets-color: white;\n",
              "                    --jp-widgets-label-color: white;\n",
              "                    --jp-ui-font-color1: white;\n",
              "                    --jp-layout-color2: #454545;\n",
              "                    background-color: #383838;\n",
              "                }\n",
              "\n",
              "                .geemap-dark .jupyter-button {\n",
              "                    --jp-layout-color3: #383838;\n",
              "                }\n",
              "\n",
              "                .geemap-colab {\n",
              "                    background-color: var(--colab-primary-surface-color, white);\n",
              "                }\n",
              "\n",
              "                .geemap-colab .jupyter-button {\n",
              "                    --jp-layout-color3: var(--colab-primary-surface-color, white);\n",
              "                }\n",
              "            </style>\n",
              "            "
            ],
            "text/plain": [
              "<IPython.core.display.HTML object>"
            ]
          },
          "metadata": {},
          "output_type": "display_data"
        }
      ],
      "source": [
        "# AOI definition\n",
        "if map.user_roi is not None:\n",
        "    AOI=map.user_roi\n",
        "else: # use the default AOI on\n",
        "    AOI=ee.Geometry.Polygon(\n",
        "        [\n",
        "            [\n",
        "            [-1.5731367943235819,5.3239250161140115],\n",
        "            [0.9647050025514181,5.3239250161140115],\n",
        "            [0.9647050025514181,8.942534511310892],\n",
        "            [-1.5731367943235819,8.942534511310892],\n",
        "            [-1.5731367943235819,5.3239250161140115]\n",
        "            ]\n",
        "        ]\n",
        "    )\n"
      ]
    },
    {
      "cell_type": "code",
      "execution_count": 7,
      "metadata": {
        "colab": {
          "base_uri": "https://localhost:8080/",
          "height": 142
        },
        "id": "ukhArzU9pX1g",
        "outputId": "08fe3547-225f-49e8-a664-bf979cf22973"
      },
      "outputs": [
        {
          "data": {
            "text/html": [
              "\n",
              "            <style>\n",
              "                .geemap-dark {\n",
              "                    --jp-widgets-color: white;\n",
              "                    --jp-widgets-label-color: white;\n",
              "                    --jp-ui-font-color1: white;\n",
              "                    --jp-layout-color2: #454545;\n",
              "                    background-color: #383838;\n",
              "                }\n",
              "\n",
              "                .geemap-dark .jupyter-button {\n",
              "                    --jp-layout-color3: #383838;\n",
              "                }\n",
              "\n",
              "                .geemap-colab {\n",
              "                    background-color: var(--colab-primary-surface-color, white);\n",
              "                }\n",
              "\n",
              "                .geemap-colab .jupyter-button {\n",
              "                    --jp-layout-color3: var(--colab-primary-surface-color, white);\n",
              "                }\n",
              "            </style>\n",
              "            "
            ],
            "text/plain": [
              "<IPython.core.display.HTML object>"
            ]
          },
          "metadata": {},
          "output_type": "display_data"
        },
        {
          "data": {
            "text/plain": [
              "{'geodesic': False,\n",
              " 'type': 'Polygon',\n",
              " 'coordinates': [[[1.002502, 6.109149],\n",
              "   [1.002502, 6.337137],\n",
              "   [1.812744, 6.337137],\n",
              "   [1.812744, 6.109149],\n",
              "   [1.002502, 6.109149]]]}"
            ]
          },
          "execution_count": 7,
          "metadata": {},
          "output_type": "execute_result"
        }
      ],
      "source": [
        "## Check the AOI coordinate\n",
        "AOI.getInfo()"
      ]
    },
    {
      "cell_type": "markdown",
      "metadata": {
        "id": "yr16FdEvqp9F"
      },
      "source": [
        "## Collect the copernicus SAR IW imagery"
      ]
    },
    {
      "cell_type": "code",
      "execution_count": 8,
      "metadata": {
        "colab": {
          "base_uri": "https://localhost:8080/",
          "height": 17
        },
        "id": "xIE2w4nwq6J5",
        "outputId": "ddbb4515-4bcb-47c1-8290-9c841570d638"
      },
      "outputs": [
        {
          "data": {
            "text/html": [
              "\n",
              "            <style>\n",
              "                .geemap-dark {\n",
              "                    --jp-widgets-color: white;\n",
              "                    --jp-widgets-label-color: white;\n",
              "                    --jp-ui-font-color1: white;\n",
              "                    --jp-layout-color2: #454545;\n",
              "                    background-color: #383838;\n",
              "                }\n",
              "\n",
              "                .geemap-dark .jupyter-button {\n",
              "                    --jp-layout-color3: #383838;\n",
              "                }\n",
              "\n",
              "                .geemap-colab {\n",
              "                    background-color: var(--colab-primary-surface-color, white);\n",
              "                }\n",
              "\n",
              "                .geemap-colab .jupyter-button {\n",
              "                    --jp-layout-color3: var(--colab-primary-surface-color, white);\n",
              "                }\n",
              "            </style>\n",
              "            "
            ],
            "text/plain": [
              "<IPython.core.display.HTML object>"
            ]
          },
          "metadata": {},
          "output_type": "display_data"
        }
      ],
      "source": [
        "## Identifier la zone d'étude et les images SAR disponibles pour celle-ci\n",
        "S1_collection= ee.ImageCollection('COPERNICUS/S1_GRD')\\\n",
        ".filter(ee.Filter.eq('instrumentMode','IW'))\\\n",
        ".filter(ee.Filter.eq('orbitProperties_pass','ASCENDING'))\\\n",
        ".filterBounds(AOI)\\\n",
        ".filterDate('2024-05-01', '2024-05-30')"
      ]
    },
    {
      "cell_type": "code",
      "execution_count": null,
      "metadata": {
        "id": "kbkJmwDWruDk"
      },
      "outputs": [],
      "source": [
        "S1_collection"
      ]
    },
    {
      "cell_type": "markdown",
      "metadata": {
        "id": "Qkg63s9gsg_F"
      },
      "source": [
        "## Identifying pre- and post- event imageries\n",
        "Identify pre-flood and flood images"
      ]
    },
    {
      "cell_type": "code",
      "execution_count": 10,
      "metadata": {
        "colab": {
          "base_uri": "https://localhost:8080/",
          "height": 17
        },
        "id": "zEBv5JcAsVLD",
        "outputId": "f9dab350-6757-4e45-a4a9-a782adfe8625"
      },
      "outputs": [
        {
          "data": {
            "text/html": [
              "\n",
              "            <style>\n",
              "                .geemap-dark {\n",
              "                    --jp-widgets-color: white;\n",
              "                    --jp-widgets-label-color: white;\n",
              "                    --jp-ui-font-color1: white;\n",
              "                    --jp-layout-color2: #454545;\n",
              "                    background-color: #383838;\n",
              "                }\n",
              "\n",
              "                .geemap-dark .jupyter-button {\n",
              "                    --jp-layout-color3: #383838;\n",
              "                }\n",
              "\n",
              "                .geemap-colab {\n",
              "                    background-color: var(--colab-primary-surface-color, white);\n",
              "                }\n",
              "\n",
              "                .geemap-colab .jupyter-button {\n",
              "                    --jp-layout-color3: var(--colab-primary-surface-color, white);\n",
              "                }\n",
              "            </style>\n",
              "            "
            ],
            "text/plain": [
              "<IPython.core.display.HTML object>"
            ]
          },
          "metadata": {},
          "output_type": "display_data"
        }
      ],
      "source": [
        "## Images SAR for pre-event\n",
        "SAR_non_flood_img = S1_collection.filterDate('2024-05-13', '2024-05-15').median()\n",
        "map.addLayer(SAR_non_flood_img,{'bands':['VH', 'VV'],'min':-25,'max':0},'SAR_non_flood_img')\n",
        "\n",
        "## Images SAR for post-event\n",
        "SAR_flood_img = S1_collection.filterDate('2024-05-25', '2024-05-27').median()\n",
        "map.addLayer(SAR_flood_img,{'bands':['VH', 'VV'],'min':-25,'max':0},'SAR_flood_img')"
      ]
    },
    {
      "cell_type": "code",
      "execution_count": null,
      "metadata": {
        "id": "sOMvYkzLG6TZ"
      },
      "outputs": [],
      "source": [
        "SAR_flood_img.bandNames()"
      ]
    },
    {
      "cell_type": "code",
      "execution_count": null,
      "metadata": {
        "id": "INFWMViIt0TP"
      },
      "outputs": [],
      "source": [
        "#map.center_object(AOI)\n",
        "map"
      ]
    },
    {
      "cell_type": "markdown",
      "metadata": {
        "id": "VZOeIPfOvAVu"
      },
      "source": [
        "## Reduction of SAR speckle effect by medium focal smoothing"
      ]
    },
    {
      "cell_type": "code",
      "execution_count": 13,
      "metadata": {
        "colab": {
          "base_uri": "https://localhost:8080/",
          "height": 17
        },
        "id": "OCl_r3SAuumf",
        "outputId": "17f67f2d-f496-42da-b383-7ff2e26b34fa"
      },
      "outputs": [
        {
          "data": {
            "text/html": [
              "\n",
              "            <style>\n",
              "                .geemap-dark {\n",
              "                    --jp-widgets-color: white;\n",
              "                    --jp-widgets-label-color: white;\n",
              "                    --jp-ui-font-color1: white;\n",
              "                    --jp-layout-color2: #454545;\n",
              "                    background-color: #383838;\n",
              "                }\n",
              "\n",
              "                .geemap-dark .jupyter-button {\n",
              "                    --jp-layout-color3: #383838;\n",
              "                }\n",
              "\n",
              "                .geemap-colab {\n",
              "                    background-color: var(--colab-primary-surface-color, white);\n",
              "                }\n",
              "\n",
              "                .geemap-colab .jupyter-button {\n",
              "                    --jp-layout-color3: var(--colab-primary-surface-color, white);\n",
              "                }\n",
              "            </style>\n",
              "            "
            ],
            "text/plain": [
              "<IPython.core.display.HTML object>"
            ]
          },
          "metadata": {},
          "output_type": "display_data"
        }
      ],
      "source": [
        "# Speckle correction\n",
        "smoothing_radius = 50\n",
        "\n",
        "# Pre-event imagery\n",
        "SAR_non_flood_img_smooth = SAR_non_flood_img.focal_mean(smoothing_radius, 'circle','meters').clip(AOI)\n",
        "\n",
        "# Post event\n",
        "SAR_flood_img_smooth = SAR_flood_img.focal_mean(smoothing_radius, 'circle', 'meters').clip(AOI)"
      ]
    },
    {
      "cell_type": "code",
      "execution_count": null,
      "metadata": {
        "id": "sF51KEKRwZSJ"
      },
      "outputs": [],
      "source": [
        "map.addLayer(SAR_non_flood_img_smooth, {'bands':['VH'],'min':-25,'max':0}, 'SAR_non_flood_img_smooth')\n",
        "map.addLayer(SAR_flood_img_smooth, {'bands':['VH'],'min':-25,'max':0}, 'SAR_flood_img_smooth')\n",
        "map"
      ]
    },
    {
      "cell_type": "markdown",
      "metadata": {
        "id": "KfZqJHlZy1OQ"
      },
      "source": [
        "## Identify a threshold to classify land and water for each image\n",
        "\n",
        "Here, draw a polygon, a small area of interest (aoi_hist), in the map viewer to generate an image histogram.\n",
        "\n",
        "From the histogram, visually identify a threshold value to classify land and water zones."
      ]
    },
    {
      "cell_type": "code",
      "execution_count": 15,
      "metadata": {
        "colab": {
          "base_uri": "https://localhost:8080/",
          "height": 17
        },
        "id": "Aa0HR1jfzwrT",
        "outputId": "df88bf6f-d576-40e6-c31e-1d3bd39ad3b2"
      },
      "outputs": [
        {
          "data": {
            "text/html": [
              "\n",
              "            <style>\n",
              "                .geemap-dark {\n",
              "                    --jp-widgets-color: white;\n",
              "                    --jp-widgets-label-color: white;\n",
              "                    --jp-ui-font-color1: white;\n",
              "                    --jp-layout-color2: #454545;\n",
              "                    background-color: #383838;\n",
              "                }\n",
              "\n",
              "                .geemap-dark .jupyter-button {\n",
              "                    --jp-layout-color3: #383838;\n",
              "                }\n",
              "\n",
              "                .geemap-colab {\n",
              "                    background-color: var(--colab-primary-surface-color, white);\n",
              "                }\n",
              "\n",
              "                .geemap-colab .jupyter-button {\n",
              "                    --jp-layout-color3: var(--colab-primary-surface-color, white);\n",
              "                }\n",
              "            </style>\n",
              "            "
            ],
            "text/plain": [
              "<IPython.core.display.HTML object>"
            ]
          },
          "metadata": {},
          "output_type": "display_data"
        }
      ],
      "source": [
        "AOI_hist=map.user_roi"
      ]
    },
    {
      "cell_type": "code",
      "execution_count": null,
      "metadata": {
        "id": "ohB4Koav00zz"
      },
      "outputs": [],
      "source": [
        "AOI_hist.getInfo()"
      ]
    },
    {
      "cell_type": "code",
      "execution_count": 24,
      "metadata": {
        "colab": {
          "base_uri": "https://localhost:8080/",
          "height": 17
        },
        "id": "smB5yB6gb7-d",
        "outputId": "b7950099-0856-47f2-e0b0-4c1b0ee37225"
      },
      "outputs": [
        {
          "data": {
            "text/html": [
              "\n",
              "            <style>\n",
              "                .geemap-dark {\n",
              "                    --jp-widgets-color: white;\n",
              "                    --jp-widgets-label-color: white;\n",
              "                    --jp-ui-font-color1: white;\n",
              "                    --jp-layout-color2: #454545;\n",
              "                    background-color: #383838;\n",
              "                }\n",
              "\n",
              "                .geemap-dark .jupyter-button {\n",
              "                    --jp-layout-color3: #383838;\n",
              "                }\n",
              "\n",
              "                .geemap-colab {\n",
              "                    background-color: var(--colab-primary-surface-color, white);\n",
              "                }\n",
              "\n",
              "                .geemap-colab .jupyter-button {\n",
              "                    --jp-layout-color3: var(--colab-primary-surface-color, white);\n",
              "                }\n",
              "            </style>\n",
              "            "
            ],
            "text/plain": [
              "<IPython.core.display.HTML object>"
            ]
          },
          "metadata": {},
          "output_type": "display_data"
        }
      ],
      "source": [
        "def plot_sar_histogram(image: ee.Image, region: ee.Geometry, scale: int = 10):\n",
        "    \"\"\"\n",
        "    Plots overlaid histograms for VV and VH bands of a SAR image using Plotly Express.\n",
        "\n",
        "    Parameters:\n",
        "        image (ee.Image): Earth Engine image with VV and VH bands.\n",
        "        region (ee.Geometry): Area of interest geometry.\n",
        "        scale (int): Resolution in meters (default is 10m for Sentinel-1).\n",
        "    \"\"\"\n",
        "    import plotly.express as px\n",
        "    import pandas as pd\n",
        "\n",
        "    # Reduce region to get histograms for both bands\n",
        "    histogram = image.reduceRegion(\n",
        "        reducer=ee.Reducer.histogram(),\n",
        "        geometry=region,\n",
        "        scale=scale,\n",
        "        bestEffort=True\n",
        "    ).getInfo()\n",
        "\n",
        "    # Extract histograms\n",
        "    vv_hist = histogram['VV']\n",
        "    vh_hist = histogram['VH']\n",
        "\n",
        "    # Convert to pandas DataFrame\n",
        "    df_vv = pd.DataFrame({\n",
        "        'Backscatter': vv_hist['bucketMeans'],\n",
        "        'Frequency': vv_hist['histogram'],\n",
        "        'Band': 'VV'\n",
        "    })\n",
        "\n",
        "    df_vh = pd.DataFrame({\n",
        "        'Backscatter': vh_hist['bucketMeans'],\n",
        "        'Frequency': vh_hist['histogram'],\n",
        "        'Band': 'VH'\n",
        "    })\n",
        "\n",
        "    df_combined = pd.concat([df_vv, df_vh])\n",
        "\n",
        "    # Plot with Plotly\n",
        "    fig = px.bar(df_combined,\n",
        "                 x='Backscatter',\n",
        "                 y='Frequency',\n",
        "                 color='Band',\n",
        "                 barmode='overlay',\n",
        "                 title='SAR Histogram - VV and VH Bands')\n",
        "\n",
        "    fig.update_layout(template='plotly_white')\n",
        "    fig.show()"
      ]
    },
    {
      "cell_type": "code",
      "execution_count": null,
      "metadata": {
        "id": "nYc45qZxcP5H"
      },
      "outputs": [],
      "source": [
        "## Plot histogram for SAR_non_flood_smooth\n",
        "plot_sar_histogram(SAR_non_flood_img_smooth, AOI_hist)"
      ]
    },
    {
      "cell_type": "code",
      "execution_count": null,
      "metadata": {
        "id": "zWdFvzkbdlQd"
      },
      "outputs": [],
      "source": [
        "## Plot histogram for SAR_non_flood_smooth\n",
        "plot_sar_histogram(SAR_flood_img_smooth, AOI_hist)"
      ]
    },
    {
      "cell_type": "markdown",
      "metadata": {
        "id": "Mvr1ugFNFTTy"
      },
      "source": [
        "# Classify the water and land  area\n",
        "Based on the tresholds previously defined visually from histograms, we can now classify for classes"
      ]
    },
    {
      "cell_type": "markdown",
      "metadata": {
        "id": "eeYButdqKaCq"
      },
      "source": []
    },
    {
      "cell_type": "code",
      "execution_count": 67,
      "metadata": {
        "colab": {
          "base_uri": "https://localhost:8080/",
          "height": 17
        },
        "id": "iP-NjflxESrE",
        "outputId": "53d0c93f-fbba-4990-c5a3-90869bbe8588"
      },
      "outputs": [
        {
          "data": {
            "text/html": [
              "\n",
              "            <style>\n",
              "                .geemap-dark {\n",
              "                    --jp-widgets-color: white;\n",
              "                    --jp-widgets-label-color: white;\n",
              "                    --jp-ui-font-color1: white;\n",
              "                    --jp-layout-color2: #454545;\n",
              "                    background-color: #383838;\n",
              "                }\n",
              "\n",
              "                .geemap-dark .jupyter-button {\n",
              "                    --jp-layout-color3: #383838;\n",
              "                }\n",
              "\n",
              "                .geemap-colab {\n",
              "                    background-color: var(--colab-primary-surface-color, white);\n",
              "                }\n",
              "\n",
              "                .geemap-colab .jupyter-button {\n",
              "                    --jp-layout-color3: var(--colab-primary-surface-color, white);\n",
              "                }\n",
              "            </style>\n",
              "            "
            ],
            "text/plain": [
              "<IPython.core.display.HTML object>"
            ]
          },
          "metadata": {},
          "output_type": "display_data"
        }
      ],
      "source": [
        "non_flood_class = SAR_non_flood_img_smooth.select('VH').lt(-22) # all pixels with value less than -22 will be assigned as 0, otherwise 1\n",
        "map.addLayer(non_flood_class,{'palette':['gray','blue']}, 'Pre flood class')\n",
        "\n",
        "flood_class = SAR_flood_img_smooth.select('VH').lt(-18.5) # all pixels with value less than -18.5 will be assigned as 0, otherwise 1\n",
        "map.addLayer(flood_class,{'palette':['gray','blue']}, 'Flood class')\n"
      ]
    },
    {
      "cell_type": "code",
      "execution_count": null,
      "metadata": {
        "id": "RfgpqGi3IOoY"
      },
      "outputs": [],
      "source": [
        "map"
      ]
    },
    {
      "cell_type": "markdown",
      "metadata": {
        "id": "H8tGK0ozLm3I"
      },
      "source": [
        "## Calculate the extend of the flood"
      ]
    },
    {
      "cell_type": "code",
      "execution_count": 69,
      "metadata": {
        "colab": {
          "base_uri": "https://localhost:8080/",
          "height": 17
        },
        "id": "4mScyl3yLmjU",
        "outputId": "3b5543da-ebd8-4394-dc76-badd4fa82dc7"
      },
      "outputs": [
        {
          "data": {
            "text/html": [
              "\n",
              "            <style>\n",
              "                .geemap-dark {\n",
              "                    --jp-widgets-color: white;\n",
              "                    --jp-widgets-label-color: white;\n",
              "                    --jp-ui-font-color1: white;\n",
              "                    --jp-layout-color2: #454545;\n",
              "                    background-color: #383838;\n",
              "                }\n",
              "\n",
              "                .geemap-dark .jupyter-button {\n",
              "                    --jp-layout-color3: #383838;\n",
              "                }\n",
              "\n",
              "                .geemap-colab {\n",
              "                    background-color: var(--colab-primary-surface-color, white);\n",
              "                }\n",
              "\n",
              "                .geemap-colab .jupyter-button {\n",
              "                    --jp-layout-color3: var(--colab-primary-surface-color, white);\n",
              "                }\n",
              "            </style>\n",
              "            "
            ],
            "text/plain": [
              "<IPython.core.display.HTML object>"
            ]
          },
          "metadata": {},
          "output_type": "display_data"
        }
      ],
      "source": [
        "# Subtraction of non-flooded image from flooded classified image\n",
        "\n",
        "flooded_area = flood_class.subtract(non_flood_class).selfMask()"
      ]
    },
    {
      "cell_type": "code",
      "execution_count": null,
      "metadata": {
        "id": "1c3frrLhMNqR"
      },
      "outputs": [],
      "source": [
        "map.addLayer(flooded_area,{'palette':['blue']},'flooded_area')\n",
        "map"
      ]
    },
    {
      "cell_type": "markdown",
      "metadata": {
        "id": "cVntAT_HNEtJ"
      },
      "source": [
        "## Calculate pixel connectivity to eliminate isolated pixels, e.g. neighbors with less than 8 pixels"
      ]
    },
    {
      "cell_type": "code",
      "execution_count": 71,
      "metadata": {
        "colab": {
          "base_uri": "https://localhost:8080/",
          "height": 17
        },
        "id": "JzxQuWO3M-aC",
        "outputId": "ca4d4857-2ff1-4891-d56c-a2d9bb4d43d3"
      },
      "outputs": [
        {
          "data": {
            "text/html": [
              "\n",
              "            <style>\n",
              "                .geemap-dark {\n",
              "                    --jp-widgets-color: white;\n",
              "                    --jp-widgets-label-color: white;\n",
              "                    --jp-ui-font-color1: white;\n",
              "                    --jp-layout-color2: #454545;\n",
              "                    background-color: #383838;\n",
              "                }\n",
              "\n",
              "                .geemap-dark .jupyter-button {\n",
              "                    --jp-layout-color3: #383838;\n",
              "                }\n",
              "\n",
              "                .geemap-colab {\n",
              "                    background-color: var(--colab-primary-surface-color, white);\n",
              "                }\n",
              "\n",
              "                .geemap-colab .jupyter-button {\n",
              "                    --jp-layout-color3: var(--colab-primary-surface-color, white);\n",
              "                }\n",
              "            </style>\n",
              "            "
            ],
            "text/plain": [
              "<IPython.core.display.HTML object>"
            ]
          },
          "metadata": {},
          "output_type": "display_data"
        }
      ],
      "source": [
        "connections = flooded_area.connectedPixelCount()\n",
        "flooded_area_conn = flooded_area.updateMask(connections.gte(8))\n",
        "map.addLayer(flooded_area_conn,{'palette':['yellow']},'flooded_area_conn')"
      ]
    },
    {
      "cell_type": "code",
      "execution_count": null,
      "metadata": {
        "id": "oZtFFnFLg-2b"
      },
      "outputs": [],
      "source": [
        "map"
      ]
    },
    {
      "cell_type": "markdown",
      "metadata": {
        "id": "J0YJlPfoNn22"
      },
      "source": [
        "## Mask out areas with slopes greater than 5% using a digital elevation model"
      ]
    },
    {
      "cell_type": "code",
      "execution_count": 73,
      "metadata": {
        "colab": {
          "base_uri": "https://localhost:8080/",
          "height": 17
        },
        "id": "0euQYtwiNcFG",
        "outputId": "7ad36802-b2da-4876-eaf8-d495ddc348dc"
      },
      "outputs": [
        {
          "data": {
            "text/html": [
              "\n",
              "            <style>\n",
              "                .geemap-dark {\n",
              "                    --jp-widgets-color: white;\n",
              "                    --jp-widgets-label-color: white;\n",
              "                    --jp-ui-font-color1: white;\n",
              "                    --jp-layout-color2: #454545;\n",
              "                    background-color: #383838;\n",
              "                }\n",
              "\n",
              "                .geemap-dark .jupyter-button {\n",
              "                    --jp-layout-color3: #383838;\n",
              "                }\n",
              "\n",
              "                .geemap-colab {\n",
              "                    background-color: var(--colab-primary-surface-color, white);\n",
              "                }\n",
              "\n",
              "                .geemap-colab .jupyter-button {\n",
              "                    --jp-layout-color3: var(--colab-primary-surface-color, white);\n",
              "                }\n",
              "            </style>\n",
              "            "
            ],
            "text/plain": [
              "<IPython.core.display.HTML object>"
            ]
          },
          "metadata": {},
          "output_type": "display_data"
        }
      ],
      "source": [
        "DEM = ee.Image('WWF/HydroSHEDS/03VFDEM')\n",
        "\n",
        "terrain = ee.Algorithms.Terrain(DEM).clip(AOI)\n",
        "\n",
        "slope = terrain.select('slope')\n",
        "\n",
        "map.addLayer(terrain.select('hillshade'), {},'hillshade');"
      ]
    },
    {
      "cell_type": "code",
      "execution_count": 74,
      "metadata": {
        "colab": {
          "base_uri": "https://localhost:8080/",
          "height": 17
        },
        "id": "VJ8oWSDrN3fU",
        "outputId": "fd03ccd4-dcfd-480f-c0b2-528c0ebc4e79"
      },
      "outputs": [
        {
          "data": {
            "text/html": [
              "\n",
              "            <style>\n",
              "                .geemap-dark {\n",
              "                    --jp-widgets-color: white;\n",
              "                    --jp-widgets-label-color: white;\n",
              "                    --jp-ui-font-color1: white;\n",
              "                    --jp-layout-color2: #454545;\n",
              "                    background-color: #383838;\n",
              "                }\n",
              "\n",
              "                .geemap-dark .jupyter-button {\n",
              "                    --jp-layout-color3: #383838;\n",
              "                }\n",
              "\n",
              "                .geemap-colab {\n",
              "                    background-color: var(--colab-primary-surface-color, white);\n",
              "                }\n",
              "\n",
              "                .geemap-colab .jupyter-button {\n",
              "                    --jp-layout-color3: var(--colab-primary-surface-color, white);\n",
              "                }\n",
              "            </style>\n",
              "            "
            ],
            "text/plain": [
              "<IPython.core.display.HTML object>"
            ]
          },
          "metadata": {},
          "output_type": "display_data"
        }
      ],
      "source": [
        "#Mask out areas with a slope greater than 5% using a digital elevation model.\n",
        "flooded_area_conn_topo = flooded_area_conn.updateMask(slope.lt(5))\n",
        "map.addLayer(flooded_area_conn_topo,{'palette':['red']},'flooded_area_conn_topo')"
      ]
    },
    {
      "cell_type": "code",
      "execution_count": null,
      "metadata": {
        "collapsed": true,
        "id": "hthlNypvOVbP"
      },
      "outputs": [],
      "source": [
        "map"
      ]
    },
    {
      "cell_type": "markdown",
      "metadata": {
        "id": "5GAjsAahO0gk"
      },
      "source": [
        "## Export the flood map to your Google Drive"
      ]
    },
    {
      "cell_type": "code",
      "execution_count": 81,
      "metadata": {
        "colab": {
          "base_uri": "https://localhost:8080/",
          "height": 17
        },
        "id": "gQ3okSiYO1B2",
        "outputId": "58a025b7-f0c2-4bea-beb2-524a10eac312"
      },
      "outputs": [
        {
          "data": {
            "text/html": [
              "\n",
              "            <style>\n",
              "                .geemap-dark {\n",
              "                    --jp-widgets-color: white;\n",
              "                    --jp-widgets-label-color: white;\n",
              "                    --jp-ui-font-color1: white;\n",
              "                    --jp-layout-color2: #454545;\n",
              "                    background-color: #383838;\n",
              "                }\n",
              "\n",
              "                .geemap-dark .jupyter-button {\n",
              "                    --jp-layout-color3: #383838;\n",
              "                }\n",
              "\n",
              "                .geemap-colab {\n",
              "                    background-color: var(--colab-primary-surface-color, white);\n",
              "                }\n",
              "\n",
              "                .geemap-colab .jupyter-button {\n",
              "                    --jp-layout-color3: var(--colab-primary-surface-color, white);\n",
              "                }\n",
              "            </style>\n",
              "            "
            ],
            "text/plain": [
              "<IPython.core.display.HTML object>"
            ]
          },
          "metadata": {},
          "output_type": "display_data"
        }
      ],
      "source": [
        "# Export the result to google earth engine Assets\n",
        "task= ee.batch.Export.image.toAsset(\n",
        "    image= flooded_area_conn_topo,\n",
        "    description= 'flood_map',\n",
        "    region= AOI.getInfo()['coordinates'],\n",
        "    maxPixels= 1e9,\n",
        "    scale= 10,\n",
        "    assetId='projects/ee-fid/assets/flood_may24_Togo_',  #\n",
        ")\n",
        "task.start()"
      ]
    },
    {
      "cell_type": "code",
      "execution_count": 85,
      "metadata": {
        "colab": {
          "base_uri": "https://localhost:8080/",
          "height": 214
        },
        "id": "TFsywrFvrU7a",
        "outputId": "2987bea7-7142-464f-aa09-d189c81bcb54"
      },
      "outputs": [
        {
          "data": {
            "text/html": [
              "\n",
              "            <style>\n",
              "                .geemap-dark {\n",
              "                    --jp-widgets-color: white;\n",
              "                    --jp-widgets-label-color: white;\n",
              "                    --jp-ui-font-color1: white;\n",
              "                    --jp-layout-color2: #454545;\n",
              "                    background-color: #383838;\n",
              "                }\n",
              "\n",
              "                .geemap-dark .jupyter-button {\n",
              "                    --jp-layout-color3: #383838;\n",
              "                }\n",
              "\n",
              "                .geemap-colab {\n",
              "                    background-color: var(--colab-primary-surface-color, white);\n",
              "                }\n",
              "\n",
              "                .geemap-colab .jupyter-button {\n",
              "                    --jp-layout-color3: var(--colab-primary-surface-color, white);\n",
              "                }\n",
              "            </style>\n",
              "            "
            ],
            "text/plain": [
              "<IPython.core.display.HTML object>"
            ]
          },
          "metadata": {},
          "output_type": "display_data"
        },
        {
          "data": {
            "text/plain": [
              "{'state': 'RUNNING',\n",
              " 'description': 'flood_map',\n",
              " 'priority': 100,\n",
              " 'creation_timestamp_ms': 1744961890369,\n",
              " 'update_timestamp_ms': 1744961999117,\n",
              " 'start_timestamp_ms': 1744961895597,\n",
              " 'task_type': 'EXPORT_IMAGE',\n",
              " 'attempt': 1,\n",
              " 'batch_eecu_usage_seconds': 177.734,\n",
              " 'id': '7RDZLXQBF55YKK4AOMRHR7ND',\n",
              " 'name': 'projects/ee-fid/operations/7RDZLXQBF55YKK4AOMRHR7ND'}"
            ]
          },
          "execution_count": 85,
          "metadata": {},
          "output_type": "execute_result"
        }
      ],
      "source": [
        "task.status()"
      ]
    },
    {
      "cell_type": "markdown",
      "metadata": {},
      "source": [
        "# Calculate SAR flooded area"
      ]
    },
    {
      "cell_type": "code",
      "execution_count": null,
      "metadata": {},
      "outputs": [],
      "source": [
        "area_flooded= geemap.zonal_stats(flooded_area_conn_topo, AOI, scale=1000, statistics_type='SUM', return_fc=True)\n",
        "geemap.ee_to_df(area_flooded)"
      ]
    }
  ],
  "metadata": {
    "colab": {
      "authorship_tag": "ABX9TyPj3ccgWKLYZYFvreAb0Ahp",
      "include_colab_link": true,
      "provenance": []
    },
    "kernelspec": {
      "display_name": "Python 3",
      "name": "python3"
    },
    "language_info": {
      "name": "python"
    }
  },
  "nbformat": 4,
  "nbformat_minor": 0
}
